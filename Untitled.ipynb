{
 "cells": [
  {
   "cell_type": "markdown",
   "metadata": {},
   "source": [
    "Make simple cubes"
   ]
  },
  {
   "cell_type": "code",
   "execution_count": null,
   "metadata": {
    "collapsed": true
   },
   "outputs": [],
   "source": []
  }
 ],
 "metadata": {
  "kernelspec": {
   "display_name": "EusLisp",
   "language": "euslisp",
   "name": "euslisp"
  },
  "language_info": {
   "codemirror_mode": "commonlisp",
   "file_extension": ".l",
   "mimetype": "text/plain",
   "name": "euslisp"
  }
 },
 "nbformat": 4,
 "nbformat_minor": 2
}
